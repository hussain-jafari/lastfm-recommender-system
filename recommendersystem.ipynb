{
 "cells": [
  {
   "cell_type": "code",
   "execution_count": 1,
   "metadata": {
    "collapsed": true
   },
   "outputs": [],
   "source": [
    "import pylast\n",
    "import pandas as pd\n",
    "import numpy as np\n",
    "import matplotlib.pyplot as plt\n",
    "from sklearn import preprocessing\n",
    "\n",
    "API_KEY = '42d5a344a079b31fdf1e25696a8bd517'\n",
    "API_SECRET = '02bcec5c2ab24babcc5f5cba374276fb'\n",
    "\n",
    "network = pylast.LastFMNetwork(api_key=API_KEY, api_secret=API_SECRET)"
   ]
  },
  {
   "cell_type": "code",
   "execution_count": 2,
   "metadata": {
    "collapsed": true
   },
   "outputs": [],
   "source": [
    "# Generate a list of users using their friends \n",
    "def make_friends_list(initial_user, min_length=1000, friends_list=[], initial_users_list=[]):\n",
    "    \n",
    "    # Add initial user to friends list\n",
    "    friends_list.append(initial_user)\n",
    "    # Add initial user to list of user \"seeds\"\n",
    "    initial_users_list.append(initial_user)\n",
    "    # Get user's friends\n",
    "    user = network.get_user(initial_user)\n",
    "    user_friends = user.get_friends(limit=None)\n",
    "\n",
    "    # Add friends to user list \n",
    "    for i in range(len(user_friends)):\n",
    "        # Make sure they're not already in the list\n",
    "        if user_friends[i].get_name() not in friends_list:\n",
    "            friends_list.append(user_friends[i].get_name()) \n",
    "    \n",
    "    # Find another user whose friends can be added to list\n",
    "    for i in range(len(friends_list)):\n",
    "        # Make sure they haven't already been used as a seed\n",
    "        if friends_list[i] not in initial_users_list:\n",
    "            new_user = friends_list[i]\n",
    "    \n",
    "    # Look at new user's friend's list until list is sufficiently long\n",
    "    while len(friends_list) < min_length:\n",
    "        list = make_friends_list(initial_user=new_user, min_length=min_length, friends_list=friends_list, \n",
    "                                 initial_users_list=initial_users_list)\n",
    "    \n",
    "    # Remove duplicates\n",
    "    return set(friends_list)"
   ]
  },
  {
   "cell_type": "code",
   "execution_count": 3,
   "metadata": {
    "collapsed": true
   },
   "outputs": [],
   "source": [
    "# Create a DataFrame with user, artist, and play count columns\n",
    "def get_playcounts_from_users(users_list):\n",
    "\n",
    "    artist_plays_list = []\n",
    "    users_list = list(users_list)\n",
    "\n",
    "    # Loop through users\n",
    "    for user_name in users_list:\n",
    "        # Get the user's top artists\n",
    "        user = network.get_user(user_name)\n",
    "        user_artists = user.get_top_artists()\n",
    "        \n",
    "        # For each user and each artist they listen to, create a list containing the username, artist, and play count\n",
    "        for i in range(len(user_artists)):\n",
    "            artist_name = user_artists[i]._asdict()['item'].get_name()\n",
    "            num_plays = int(user_artists[i]._asdict()['weight'])\n",
    "            artist_list = [user_name, artist_name, num_plays]\n",
    "            # Create a list of lists containing this info\n",
    "            artist_plays_list.append(artist_list)\n",
    "            \n",
    "    # Create DataFrame \n",
    "    df = pd.DataFrame(artist_plays_list)\n",
    "    df.columns = ['user', 'artist', 'plays']\n",
    "            \n",
    "    return df"
   ]
  },
  {
   "cell_type": "code",
   "execution_count": 4,
   "metadata": {
    "collapsed": true
   },
   "outputs": [],
   "source": [
    "# Create a DataFrame using jonhdee23 as a seed user\n",
    "user = 'jonhdee23'\n",
    "users_list = make_friends_list(user)\n",
    "playcounts_df = get_playcounts_from_users(users_list)"
   ]
  },
  {
   "cell_type": "code",
   "execution_count": 5,
   "metadata": {
    "collapsed": true
   },
   "outputs": [],
   "source": [
    "# Create a pivot table with users as rows, artists as columns, and play counts as values\n",
    "playcounts_table = playcounts_df.pivot(index='user', columns='artist', values='plays').fillna(0)\n",
    "\n",
    "# Create a list of total play counts for each artist and sort in descending order\n",
    "playcounts_per_artist = playcounts_table.sum()\n",
    "playcounts_per_artist = playcounts_per_artist.sort_values(ascending=False)"
   ]
  },
  {
   "cell_type": "code",
   "execution_count": 6,
   "metadata": {},
   "outputs": [
    {
     "data": {
      "text/plain": [
       "count     14503.000000\n",
       "mean       2972.693098\n",
       "std       13767.824427\n",
       "min           1.000000\n",
       "25%         178.500000\n",
       "50%         580.000000\n",
       "75%        1802.500000\n",
       "max      849153.000000\n",
       "dtype: float64"
      ]
     },
     "execution_count": 6,
     "metadata": {},
     "output_type": "execute_result"
    }
   ],
   "source": [
    "# Look at summary statistics, checking for outliers\n",
    "playcounts_per_artist.describe()"
   ]
  },
  {
   "cell_type": "code",
   "execution_count": 7,
   "metadata": {
    "collapsed": true
   },
   "outputs": [],
   "source": [
    "# Assign 25th percentile to bottom_quarter variable\n",
    "bottom_quarter = playcounts_per_artist.describe()['25%']\n",
    "\n",
    "# Subset play counts below 25th percentile\n",
    "playcounts_bottom_quarter = playcounts_per_artist[playcounts_per_artist <= bottom_quarter]"
   ]
  },
  {
   "cell_type": "code",
   "execution_count": 8,
   "metadata": {},
   "outputs": [
    {
     "data": {
      "image/png": "[encoded data removed]",
      "text/plain": [
       "<matplotlib.figure.Figure at 0x7feeff111080>"
      ]
     },
     "metadata": {},
     "output_type": "display_data"
    }
   ],
   "source": [
    "# Round number of values to multiple of 500\n",
    "num_of_playcounts = len(playcounts_bottom_quarter)\n",
    "num_of_playcounts_rounded = num_of_playcounts - (num_of_playcounts % 500)\n",
    "num_of_plots = 4\n",
    "\n",
    "# Increase width of plots\n",
    "width = 12\n",
    "height = 6\n",
    "plt.figure(figsize=(width, height))\n",
    "\n",
    "num_of_rows = 2\n",
    "num_of_cols = 2\n",
    "\n",
    "# Successfully zoom into plot of bottom quarter of playcounts distribution\n",
    "for pos_index, xlim in enumerate(np.arange(0, num_of_playcounts_rounded, num_of_playcounts_rounded / num_of_plots)):\n",
    "    plt.subplot(num_of_rows, num_of_cols, pos_index+1)\n",
    "    num_of_values = num_of_playcounts - int(xlim)\n",
    "    plt.title('Last {} Play Counts'.format(num_of_values))\n",
    "    plt.plot(playcounts_bottom_quarter.values[int(xlim):])\n",
    "plt.tight_layout()\n",
    "plt.show()"
   ]
  },
  {
   "cell_type": "code",
   "execution_count": 9,
   "metadata": {},
   "outputs": [
    {
     "data": {
      "text/plain": [
       "10877"
      ]
     },
     "execution_count": 9,
     "metadata": {},
     "output_type": "execute_result"
    }
   ],
   "source": [
    "# Only include artists with a sufficient number of play counts\n",
    "playcounts_per_artist = playcounts_per_artist[playcounts_per_artist >= bottom_quarter]\n",
    "# Check how many artists are left \n",
    "len(playcounts_per_artist)"
   ]
  },
  {
   "cell_type": "code",
   "execution_count": 10,
   "metadata": {},
   "outputs": [
    {
     "data": {
      "image/png": "[encoded data removed]",
      "text/plain": [
       "<matplotlib.figure.Figure at 0x7fef000b88d0>"
      ]
     },
     "metadata": {},
     "output_type": "display_data"
    }
   ],
   "source": [
    "# Plot 10 highest play counts\n",
    "plt.plot(playcounts_per_artist.values[:10])\n",
    "plt.show()"
   ]
  },
  {
   "cell_type": "code",
   "execution_count": 11,
   "metadata": {},
   "outputs": [
    {
     "data": {
      "text/plain": [
       "artist\n",
       "The Cure                     849153.0\n",
       "Depeche Mode                 362282.0\n",
       "Radiohead                    314824.0\n",
       "Placebo                      299893.0\n",
       "PJ Harvey                    288490.0\n",
       "Nine Inch Nails              270843.0\n",
       "Nick Cave & The Bad Seeds    266559.0\n",
       "David Bowie                  259278.0\n",
       "The Beatles                  231347.0\n",
       "Madonna                      230887.0\n",
       "dtype: float64"
      ]
     },
     "execution_count": 11,
     "metadata": {},
     "output_type": "execute_result"
    }
   ],
   "source": [
    "playcounts_per_artist[:10]"
   ]
  },
  {
   "cell_type": "code",
   "execution_count": 12,
   "metadata": {},
   "outputs": [
    {
     "data": {
      "image/png": "[encoded data removed]",
      "text/plain": [
       "<matplotlib.figure.Figure at 0x7feeff29f358>"
      ]
     },
     "metadata": {},
     "output_type": "display_data"
    }
   ],
   "source": [
    "# Plot 9 highest play counts, excluding the highest \n",
    "plt.plot(playcounts_per_artist.values[1:10])\n",
    "plt.show()"
   ]
  },
  {
   "cell_type": "code",
   "execution_count": 13,
   "metadata": {},
   "outputs": [
    {
     "data": {
      "image/png": "[encoded data removed]",
      "text/plain": [
       "<matplotlib.figure.Figure at 0x7feeff1279b0>"
      ]
     },
     "metadata": {},
     "output_type": "display_data"
    }
   ],
   "source": [
    "# Plot 1000 highest play counts, excluding the highest\n",
    "plt.plot(playcounts_per_artist.values[1:1001])\n",
    "plt.show()"
   ]
  },
  {
   "cell_type": "code",
   "execution_count": 14,
   "metadata": {
    "collapsed": true
   },
   "outputs": [],
   "source": [
    "plays_per_user = playcounts_table.sum(1).sort_values(ascending=False)"
   ]
  },
  {
   "cell_type": "code",
   "execution_count": 15,
   "metadata": {},
   "outputs": [
    {
     "data": {
      "image/png": "[encoded data removed]",
      "text/plain": [
       "<matplotlib.figure.Figure at 0x7feeff65b080>"
      ]
     },
     "metadata": {},
     "output_type": "display_data"
    }
   ],
   "source": [
    "plt.plot(plays_per_user.values)\n",
    "plt.show()"
   ]
  },
  {
   "cell_type": "code",
   "execution_count": 16,
   "metadata": {},
   "outputs": [
    {
     "data": {
      "text/plain": [
       "10877"
      ]
     },
     "execution_count": 16,
     "metadata": {},
     "output_type": "execute_result"
    }
   ],
   "source": [
    "# Create list of artist names with playcounts above 25th percentile\n",
    "artists_with_sufficient_playcounts = list(playcounts_per_artist.index)\n",
    "# Only include those artists in our DataFrame\n",
    "playcounts_df_original = playcounts_df\n",
    "playcounts_df = playcounts_df[playcounts_df['artist'].isin(artists_with_sufficient_playcounts)]\n",
    "# Check that the right number of artists are included\n",
    "len(playcounts_df['artist'].unique())"
   ]
  },
  {
   "cell_type": "code",
   "execution_count": 17,
   "metadata": {
    "collapsed": true
   },
   "outputs": [],
   "source": [
    "scaler = preprocessing.MinMaxScaler()\n",
    "\n",
    "# Normalize across each artist (users as rows, artists as columns)\n",
    "df_to_scale = playcounts_table\n",
    "scaled_across_artists_df = pd.DataFrame(scaler.fit_transform(df_to_scale))\n",
    "# Label columns using artist names\n",
    "scaled_across_artists_df.columns = df_to_scale.columns\n",
    "# Create user column to use when melting\n",
    "scaled_across_artists_df['user'] = df_to_scale.index\n",
    "# Melt dataframe to proper format for Surprise library\n",
    "scaled_across_artists_df = pd.melt(scaled_across_artists_df, id_vars='user', var_name='artist')\n",
    "# Remove rows with values of 0\n",
    "scaled_across_artists_df = scaled_across_artists_df[scaled_across_artists_df['value'] != 0]"
   ]
  },
  {
   "cell_type": "code",
   "execution_count": 18,
   "metadata": {
    "collapsed": true
   },
   "outputs": [],
   "source": [
    "scaler = preprocessing.MinMaxScaler()\n",
    "\n",
    "# Normalize across each user (artists as rows, users as columns)\n",
    "df_to_scale = playcounts_table.transpose()\n",
    "scaled_across_users_df = pd.DataFrame(scaler.fit_transform(df_to_scale))\n",
    "# Label columns and index\n",
    "scaled_across_users_df.columns = df_to_scale.columns\n",
    "scaled_across_users_df.index = df_to_scale.index\n",
    "# Transpose dataframe\n",
    "scaled_across_users_df = scaled_across_users_df.transpose()\n",
    "\n",
    "# Create user column to use when melting\n",
    "scaled_across_users_df.reset_index(inplace=True)\n",
    "# Melt dataframe to proper format for Surprise library\n",
    "scaled_across_users_df = pd.melt(scaled_across_users_df, id_vars=['user'], var_name='artist')\n",
    "# Remove rows with values of 0\n",
    "scaled_across_users_df = scaled_across_users_df[scaled_across_users_df['value'] != 0]"
   ]
  },
  {
   "cell_type": "code",
   "execution_count": 19,
   "metadata": {
    "collapsed": true
   },
   "outputs": [],
   "source": [
    "from surprise import Reader, Dataset\n",
    "\n",
    "reader = Reader(rating_scale=(0,1))\n",
    "artist_data  = Dataset.load_from_df(scaled_across_artists_df, reader)\n",
    "user_data = Dataset.load_from_df(scaled_across_users_df, reader)"
   ]
  },
  {
   "cell_type": "code",
   "execution_count": 20,
   "metadata": {
    "collapsed": true
   },
   "outputs": [],
   "source": [
    "from surprise import accuracy\n",
    "from surprise.model_selection import KFold\n",
    "\n",
    "def get_rmse_scores(algo):\n",
    "    \n",
    "    scores = []\n",
    "    mean_errors = []\n",
    "\n",
    "    # define a cross-validation iterator\n",
    "    kf = KFold(n_splits=5)\n",
    "\n",
    "    algo = algo\n",
    "\n",
    "    for dataset in [user_data, artist_data]:\n",
    "        \n",
    "        for trainset, testset in kf.split(dataset):\n",
    "\n",
    "            # train and test algorithm.\n",
    "            algo.fit(trainset)\n",
    "            predictions = algo.test(testset)\n",
    "\n",
    "            # Compute and print Root Mean Squared Error\n",
    "            scores.append(accuracy.rmse(predictions, verbose=False))\n",
    "        \n",
    "        mean_errors.append(np.mean(scores))\n",
    "            \n",
    "    return mean_errors"
   ]
  },
  {
   "cell_type": "code",
   "execution_count": 21,
   "metadata": {},
   "outputs": [
    {
     "name": "stderr",
     "output_type": "stream",
     "text": [
      "/home/hussain/anaconda3/lib/python3.6/site-packages/surprise/prediction_algorithms/algo_base.py:293: RuntimeWarning: invalid value encountered in sqrt\n",
      "  sim = construction_func[name](*args)\n"
     ]
    }
   ],
   "source": [
    "from surprise import NormalPredictor, BaselineOnly\n",
    "from surprise import KNNBasic\n",
    "from surprise import SVD, NMF\n",
    "from surprise import SlopeOne\n",
    "\n",
    "rmse_data = []\n",
    "\n",
    "normal_scores = get_rmse_scores(NormalPredictor())\n",
    "rmse_data.append(normal_scores)\n",
    "\n",
    "baseline_scores = get_rmse_scores(BaselineOnly(verbose=False))\n",
    "rmse_data.append(baseline_scores)\n",
    "\n",
    "svd_scores = get_rmse_scores(SVD())\n",
    "rmse_data.append(svd_scores)\n",
    "\n",
    "nmf_scores = get_rmse_scores(NMF())\n",
    "rmse_data.append(nmf_scores)\n",
    "\n",
    "sim_options = {'name': 'cosine', 'user_based': True}\n",
    "knn_cosine_scores = get_rmse_scores(KNNBasic(sim_options=sim_options, verbose=False))\n",
    "rmse_data.append(knn_cosine_scores)\n",
    "\n",
    "sim_options = {'name': 'pearson', 'user_based': True}\n",
    "knn_pearson_scores = get_rmse_scores(KNNBasic(sim_options=sim_options, verbose=False))\n",
    "rmse_data.append(knn_pearson_scores)"
   ]
  },
  {
   "cell_type": "code",
   "execution_count": 33,
   "metadata": {
    "collapsed": true
   },
   "outputs": [],
   "source": [
    "rmse_table = pd.DataFrame(rmse_data)\n",
    "index_names = ['NormalPredictor', 'Baseline', 'SVD', 'NMF', 'User-based cosine-KNN', 'User-based Pearson-KNN']\n",
    "col_names = ['User scaled', 'Artist scaled']\n",
    "rmse_table.index = index_names\n",
    "rmse_table.columns = col_names"
   ]
  },
  {
   "cell_type": "code",
   "execution_count": 34,
   "metadata": {},
   "outputs": [
    {
     "data": {
      "text/html": [
       "<div>\n",
       "<style>\n",
       "    .dataframe thead tr:only-child th {\n",
       "        text-align: right;\n",
       "    }\n",
       "\n",
       "    .dataframe thead th {\n",
       "        text-align: left;\n",
       "    }\n",
       "\n",
       "    .dataframe tbody tr th {\n",
       "        vertical-align: top;\n",
       "    }\n",
       "</style>\n",
       "<table border=\"1\" class=\"dataframe\">\n",
       "  <thead>\n",
       "    <tr style=\"text-align: right;\">\n",
       "      <th></th>\n",
       "      <th>User scaled</th>\n",
       "      <th>Artist scaled</th>\n",
       "    </tr>\n",
       "  </thead>\n",
       "  <tbody>\n",
       "    <tr>\n",
       "      <th>NormalPredictor</th>\n",
       "      <td>0.287349</td>\n",
       "      <td>0.403799</td>\n",
       "    </tr>\n",
       "    <tr>\n",
       "      <th>Baseline</th>\n",
       "      <td>0.182093</td>\n",
       "      <td>0.244238</td>\n",
       "    </tr>\n",
       "    <tr>\n",
       "      <th>SVD</th>\n",
       "      <td>0.195829</td>\n",
       "      <td>0.251958</td>\n",
       "    </tr>\n",
       "    <tr>\n",
       "      <th>NMF</th>\n",
       "      <td>0.206778</td>\n",
       "      <td>0.279451</td>\n",
       "    </tr>\n",
       "    <tr>\n",
       "      <th>User-based cosine-KNN</th>\n",
       "      <td>0.224440</td>\n",
       "      <td>0.315134</td>\n",
       "    </tr>\n",
       "    <tr>\n",
       "      <th>User-based Pearson-KNN</th>\n",
       "      <td>0.230766</td>\n",
       "      <td>0.314896</td>\n",
       "    </tr>\n",
       "  </tbody>\n",
       "</table>\n",
       "</div>"
      ],
      "text/plain": [
       "                        User scaled  Artist scaled\n",
       "NormalPredictor            0.287349       0.403799\n",
       "Baseline                   0.182093       0.244238\n",
       "SVD                        0.195829       0.251958\n",
       "NMF                        0.206778       0.279451\n",
       "User-based cosine-KNN      0.224440       0.315134\n",
       "User-based Pearson-KNN     0.230766       0.314896"
      ]
     },
     "execution_count": 34,
     "metadata": {},
     "output_type": "execute_result"
    }
   ],
   "source": [
    "rmse_table"
   ]
  },
  {
   "cell_type": "code",
   "execution_count": null,
   "metadata": {
    "collapsed": true
   },
   "outputs": [],
   "source": []
  }
 ],
 "metadata": {
  "kernelspec": {
   "display_name": "Python 3",
   "language": "python",
   "name": "python3"
  },
  "language_info": {
   "codemirror_mode": {
    "name": "ipython",
    "version": 3
   },
   "file_extension": ".py",
   "mimetype": "text/x-python",
   "name": "python",
   "nbconvert_exporter": "python",
   "pygments_lexer": "ipython3",
   "version": "3.6.3"
  }
 },
 "nbformat": 4,
 "nbformat_minor": 2
}
