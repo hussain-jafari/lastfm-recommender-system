{
 "cells": [
  {
   "cell_type": "code",
   "execution_count": 190,
   "metadata": {
    "collapsed": true
   },
   "outputs": [],
   "source": [
    "import pylast\n",
    "import pandas as pd\n",
    "import numpy as np\n",
    "\n",
    "API_KEY = '42d5a344a079b31fdf1e25696a8bd517'\n",
    "API_SECRET = '02bcec5c2ab24babcc5f5cba374276fb'\n",
    "\n",
    "network = pylast.LastFMNetwork(api_key=API_KEY, api_secret=API_SECRET)"
   ]
  },
  {
   "cell_type": "code",
   "execution_count": 205,
   "metadata": {},
   "outputs": [],
   "source": [
    "#Generate a list of users using their friends \n",
    "def make_friends_list(initial_user, min_length=1000, friends_list=[], initial_users_list=[]):\n",
    "    \n",
    "    #Add initial user to friends list\n",
    "    friends_list.append(initial_user)\n",
    "    #Add initial user to list of user \"seeds\"\n",
    "    initial_users_list.append(initial_user)\n",
    "    #Get user's friends\n",
    "    user = network.get_user(initial_user)\n",
    "    user_friends = user.get_friends(limit=None)\n",
    "\n",
    "    #Add friends to user list \n",
    "    for i in range(len(user_friends)):\n",
    "        #Make sure they're not already in the list\n",
    "        if user_friends[i].get_name() not in friends_list:\n",
    "            friends_list.append(user_friends[i].get_name()) \n",
    "    \n",
    "    #Find another user whose friends can be added to list\n",
    "    for i in range(len(friends_list)):\n",
    "        #Make sure they haven't already been used as a seed\n",
    "        if friends_list[i] not in initial_users_list:\n",
    "            new_user = friends_list[i]\n",
    "    \n",
    "    #Look at new user's friend's list until list is sufficiently long\n",
    "    while len(friends_list) < min_length:\n",
    "        list = make_friends_list(initial_user=new_user, min_length=min_length, friends_list=friends_list, \n",
    "                                 initial_users_list=initial_users_list)\n",
    "    \n",
    "    #Remove duplicates\n",
    "    return set(friends_list)"
   ]
  },
  {
   "cell_type": "code",
   "execution_count": 206,
   "metadata": {},
   "outputs": [],
   "source": [
    "#Create a DataFrame with users are rows, artists as columns, and play counts as values\n",
    "def artist_plays_from_users(users_list=users_list):\n",
    "\n",
    "    artist_plays_list = []\n",
    "    users_list = list(users_list)\n",
    "\n",
    "    #Loop through users\n",
    "    for user_name in users_list:\n",
    "        #Get the user's top artists\n",
    "        user = network.get_user(user_name)\n",
    "        user_artists = user.get_top_artists()\n",
    "        \n",
    "        #For each user and each artist they listen to, create a list containing the username, artist, and play count\n",
    "        for i in range(len(user_artists)):\n",
    "            artist_name = user_artists[i]._asdict()['item'].get_name()\n",
    "            num_plays = int(user_artists[i]._asdict()['weight'])\n",
    "            artist_list = [user_name, artist_name, num_plays]\n",
    "            #Create a list of lists containing this info\n",
    "            artist_plays_list.append(artist_list)\n",
    "            \n",
    "    #Create DataFrame \n",
    "    df = pd.DataFrame(artist_plays_list)\n",
    "    df.columns = ['user', 'artist', 'plays']\n",
    "    artist_plays = df.pivot(index='user', columns='artist', values='plays').fillna(0)\n",
    "            \n",
    "    return artist_plays"
   ]
  },
  {
   "cell_type": "code",
   "execution_count": 207,
   "metadata": {
    "collapsed": true
   },
   "outputs": [],
   "source": [
    "from sklearn.neighbors import NearestNeighbors\n",
    "\n",
    "#Use NearestNeighbors model to find similar users\n",
    "model_knn = NearestNeighbors(metric = 'cosine', algorithm = 'brute')"
   ]
  },
  {
   "cell_type": "code",
   "execution_count": 208,
   "metadata": {
    "collapsed": true
   },
   "outputs": [],
   "source": [
    "def get_similar_users(user, artist_plays=artist_plays, num_users=10):\n",
    "    \n",
    "    users_list = list(artist_plays.index)\n",
    "    \n",
    "    #Make sure user data is available\n",
    "    if user in users_list:\n",
    "        #Fit model and find distances and indices of (num_users+1) nearest neighbors\n",
    "        model_knn.fit(artist_plays)\n",
    "        distances, indices = model_knn.kneighbors(artist_plays, n_neighbors=num_users+1)\n",
    "        #Calculate index of user\n",
    "        user_index = users_list.index(user)\n",
    "        \n",
    "        #Create list of similar users\n",
    "        similar_users_indices = indices[user_index]\n",
    "        similar_users = [users_list[i] for i in similar_users_indices]\n",
    "        \n",
    "        #Create list of distances\n",
    "        user_distances = distances[user_index]\n",
    "        #Convert cosine distance to similarity score\n",
    "        similarity_scores = 1 - user_distances\n",
    "        \n",
    "        #Exclude original user \n",
    "        return similar_users[1:], similarity_scores[1:]\n",
    "    \n",
    "    else:\n",
    "        print(\"User not in list!\")"
   ]
  },
  {
   "cell_type": "code",
   "execution_count": 209,
   "metadata": {
    "collapsed": true
   },
   "outputs": [],
   "source": [
    "import itertools\n",
    "\n",
    "def get_artist_recommendations(user, artist_plays=artist_plays, num_comparisons=20, num_recommendations=10):\n",
    "    \n",
    "    #Get similar users and similarity scores\n",
    "    users_list = make_friends_list(user)\n",
    "    artist_plays = artist_plays_from_users(users_list)\n",
    "    similar_users, similarity_scores = get_similar_users(user, artist_plays=artist_plays, num_users=num_comparisons)\n",
    "    \n",
    "    artist_list = []\n",
    "    user_artist_list = []\n",
    "    recommended_artists = []\n",
    "    \n",
    "    #Get list of top artists from all similar users\n",
    "    for user_name in similar_users:\n",
    "        current_user = network.get_user(user_name)\n",
    "        user_artists = current_user.get_top_artists()\n",
    "        artist_names = [user_artists[i]._asdict()['item'].get_name() for i in range(len(user_artists))]\n",
    "        artist_list.append(artist_names)\n",
    "        \n",
    "    #Flatten the list and remove duplicates\n",
    "    flattened_artist_list = list(itertools.chain.from_iterable(artist_list))\n",
    "    artist_columns = list(set(flattened_artist_list))\n",
    "    \n",
    "    #Create a dataframe of similar users and play counts for their top artists\n",
    "    artist_plays = artist_plays.loc[similar_users, artist_columns]\n",
    "    #Add a column of similarity scores for each user\n",
    "    artist_plays['score'] = similarity_scores\n",
    "    #Multiply play counts by similarity score \n",
    "    weighted_plays = artist_plays.drop('score', axis=1).multiply(artist_plays['score'], axis='index')\n",
    "    #Sum weighted scores for each artist\n",
    "    weighted_totals = weighted_plays.sum()\n",
    "    #Calculate sum of similarity scores for the users who have listened to each artist, to correct for\n",
    "    #more popular artists having a big advantage\n",
    "    booleandf = artist_plays.drop('score', axis=1) != 0\n",
    "    similarity_df = booleandf.multiply(artist_plays['score'], axis='index')\n",
    "    similarity_sums = similarity_df.sum()\n",
    "    #For each artist, divide sum of weighted scores by sum of similarity scores\n",
    "    artist_rankings = weighted_totals / similarity_sums\n",
    "    #Rank the artists in ascending score\n",
    "    artist_rankings = artist_rankings.sort_values(ascending=False)\n",
    "    \n",
    "    #Get top artists of original user\n",
    "    user = network.get_user(user)\n",
    "    user_artists = user.get_top_artists()\n",
    "    \n",
    "    #Create list of top artists of original user\n",
    "    for i in range(len(user_artists)):\n",
    "        artist = user_artists[i]._asdict()['item'].get_name()\n",
    "        user_artist_list.append(artist)\n",
    "    \n",
    "    #Go through each possible recommended artist\n",
    "    for i in range(len(artist_rankings)):    \n",
    "        #Add to recommended artists list if not in user's top artists\n",
    "        if artist_rankings.index[i] not in user_artist_list:\n",
    "            recommended_artists.append(artist_rankings.index[i])\n",
    "        #Stop when we have the desired number of recommendations\n",
    "        if len(recommended_artists) == num_recommendations:\n",
    "            break\n",
    "        \n",
    "    return recommended_artists"
   ]
  },
  {
   "cell_type": "code",
   "execution_count": 213,
   "metadata": {},
   "outputs": [
    {
     "data": {
      "text/plain": [
       "['Rasputina',\n",
       " 'Lalleshwari',\n",
       " 'The Dead Weather',\n",
       " 'Eths',\n",
       " 'Mother Mother',\n",
       " 'Soap&Skin',\n",
       " 'Set Fire to Flames',\n",
       " 'Archive',\n",
       " 'EZ3kiel',\n",
       " 'The Blood Brothers']"
      ]
     },
     "execution_count": 213,
     "metadata": {},
     "output_type": "execute_result"
    }
   ],
   "source": [
    "get_artist_recommendations('jonhdee23')"
   ]
  },
  {
   "cell_type": "code",
   "execution_count": 214,
   "metadata": {},
   "outputs": [
    {
     "data": {
      "text/plain": [
       "['Queens of the Stone Age',\n",
       " 'BROCKHAMPTON',\n",
       " 'Wicca Phase Springs Eternal',\n",
       " 'Vic Mensa',\n",
       " 'Kyuss',\n",
       " 'Madlib',\n",
       " 'J Dilla',\n",
       " 'Car Seat Headrest',\n",
       " 'TTNG',\n",
       " 'Carly Rae Jepsen']"
      ]
     },
     "execution_count": 214,
     "metadata": {},
     "output_type": "execute_result"
    }
   ],
   "source": [
    "get_artist_recommendations('OutThisLife')"
   ]
  },
  {
   "cell_type": "code",
   "execution_count": 215,
   "metadata": {},
   "outputs": [
    {
     "data": {
      "text/plain": [
       "['The Legendary Pink Dots',\n",
       " 'Depeche Mode',\n",
       " 'The Smiths',\n",
       " 'Tom Waits',\n",
       " 'Masada',\n",
       " 'Cocteau Twins',\n",
       " 'Brian Eno',\n",
       " 'Sade',\n",
       " 'The Beatles',\n",
       " 'Nine Inch Nails']"
      ]
     },
     "execution_count": 215,
     "metadata": {},
     "output_type": "execute_result"
    }
   ],
   "source": [
    "get_artist_recommendations('azekulic')"
   ]
  },
  {
   "cell_type": "code",
   "execution_count": null,
   "metadata": {
    "collapsed": true
   },
   "outputs": [],
   "source": []
  }
 ],
 "metadata": {
  "kernelspec": {
   "display_name": "Python 3",
   "language": "python",
   "name": "python3"
  },
  "language_info": {
   "codemirror_mode": {
    "name": "ipython",
    "version": 3
   },
   "file_extension": ".py",
   "mimetype": "text/x-python",
   "name": "python",
   "nbconvert_exporter": "python",
   "pygments_lexer": "ipython3",
   "version": "3.6.3"
  }
 },
 "nbformat": 4,
 "nbformat_minor": 2
}
