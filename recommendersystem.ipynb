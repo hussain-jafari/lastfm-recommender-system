{
 "cells": [
  {
   "cell_type": "code",
   "execution_count": 1,
   "metadata": {
    "collapsed": true
   },
   "outputs": [],
   "source": [
    "import pylast\n",
    "import pandas as pd\n",
    "import numpy as np\n",
    "import matplotlib.pyplot as plt\n",
    "from sklearn import preprocessing\n",
    "\n",
    "API_KEY = '42d5a344a079b31fdf1e25696a8bd517'\n",
    "API_SECRET = '02bcec5c2ab24babcc5f5cba374276fb'\n",
    "\n",
    "network = pylast.LastFMNetwork(api_key=API_KEY, api_secret=API_SECRET)"
   ]
  },
  {
   "cell_type": "code",
   "execution_count": 2,
   "metadata": {
    "collapsed": true
   },
   "outputs": [],
   "source": [
    "# Generate a list of users using their friends \n",
    "def make_friends_list(initial_user, min_length=1000, friends_list=[], initial_users_list=[]):\n",
    "    \n",
    "    # Add initial user to friends list\n",
    "    friends_list.append(initial_user)\n",
    "    # Add initial user to list of user \"seeds\"\n",
    "    initial_users_list.append(initial_user)\n",
    "    # Get user's friends\n",
    "    user = network.get_user(initial_user)\n",
    "    user_friends = user.get_friends(limit=None)\n",
    "\n",
    "    # Add friends to user list \n",
    "    for i in range(len(user_friends)):\n",
    "        # Make sure they're not already in the list\n",
    "        if user_friends[i].get_name() not in friends_list:\n",
    "            friends_list.append(user_friends[i].get_name()) \n",
    "    \n",
    "    # Find another user whose friends can be added to list\n",
    "    for i in range(len(friends_list)):\n",
    "        # Make sure they haven't already been used as a seed\n",
    "        if friends_list[i] not in initial_users_list:\n",
    "            new_user = friends_list[i]\n",
    "    \n",
    "    # Look at new user's friend's list until list is sufficiently long\n",
    "    while len(friends_list) < min_length:\n",
    "        list = make_friends_list(initial_user=new_user, min_length=min_length, friends_list=friends_list, \n",
    "                                 initial_users_list=initial_users_list)\n",
    "    \n",
    "    # Remove duplicates\n",
    "    return set(friends_list)"
   ]
  },
  {
   "cell_type": "code",
   "execution_count": 3,
   "metadata": {
    "collapsed": true
   },
   "outputs": [],
   "source": [
    "# Create a DataFrame with user, artist, and play count columns\n",
    "def get_playcounts_from_users(users_list):\n",
    "\n",
    "    artist_plays_list = []\n",
    "    users_list = list(users_list)\n",
    "\n",
    "    # Loop through users\n",
    "    for user_name in users_list:\n",
    "        # Get the user's top artists\n",
    "        user = network.get_user(user_name)\n",
    "        user_artists = user.get_top_artists()\n",
    "        \n",
    "        # For each user and each artist they listen to, create a list containing the username, artist, and play count\n",
    "        for i in range(len(user_artists)):\n",
    "            artist_name = user_artists[i]._asdict()['item'].get_name()\n",
    "            num_plays = int(user_artists[i]._asdict()['weight'])\n",
    "            artist_list = [user_name, artist_name, num_plays]\n",
    "            # Create a list of lists containing this info\n",
    "            artist_plays_list.append(artist_list)\n",
    "            \n",
    "    # Create DataFrame \n",
    "    df = pd.DataFrame(artist_plays_list)\n",
    "    df.columns = ['user', 'artist', 'plays']\n",
    "            \n",
    "    return df"
   ]
  },
  {
   "cell_type": "code",
   "execution_count": 4,
   "metadata": {
    "collapsed": true
   },
   "outputs": [],
   "source": [
    "# Create a DataFrame using jonhdee23 as a seed user\n",
    "user = 'jonhdee23'\n",
    "users_list = make_friends_list(user)\n",
    "playcounts_df = get_playcounts_from_users(users_list)"
   ]
  },
  {
   "cell_type": "code",
   "execution_count": 6,
   "metadata": {
    "collapsed": true
   },
   "outputs": [],
   "source": [
    "# Create a pivot table with users as rows, artists as columns, and play counts as values\n",
    "playcounts_table = playcounts_df.pivot(index='user', columns='artist', values='plays').fillna(0)\n",
    "\n",
    "# Create a list of total play counts for each artist and sort in descending order\n",
    "playcounts_per_artist = playcounts_table.sum()\n",
    "playcounts_per_artist = playcounts_per_artist.sort_values(ascending=False)"
   ]
  },
  {
   "cell_type": "code",
   "execution_count": 7,
   "metadata": {},
   "outputs": [
    {
     "data": {
      "text/plain": [
       "count     14474.000000\n",
       "mean       2978.233729\n",
       "std       13746.000059\n",
       "min           1.000000\n",
       "25%         180.250000\n",
       "50%         585.000000\n",
       "75%        1810.750000\n",
       "max      846849.000000\n",
       "dtype: float64"
      ]
     },
     "execution_count": 7,
     "metadata": {},
     "output_type": "execute_result"
    }
   ],
   "source": [
    "# Look at summary statistics, checking for outliers\n",
    "playcounts_per_artist.describe()"
   ]
  },
  {
   "cell_type": "code",
   "execution_count": 8,
   "metadata": {
    "collapsed": true
   },
   "outputs": [],
   "source": [
    "# Assign 25th percentile to bottom_quarter variable\n",
    "bottom_quarter = playcounts_per_artist.describe()['25%']\n",
    "\n",
    "# Subset play counts below 25th percentile\n",
    "playcounts_bottom_quarter = playcounts_per_artist[playcounts_per_artist <= bottom_quarter]"
   ]
  },
  {
   "cell_type": "code",
   "execution_count": 45,
   "metadata": {},
   "outputs": [
    {
     "data": {
      "image/png": "[encoded data removed]",
      "text/plain": [
       "<matplotlib.figure.Figure at 0x7f0797037518>"
      ]
     },
     "metadata": {},
     "output_type": "display_data"
    }
   ],
   "source": [
    "# Round number of values to multiple of 500\n",
    "num_of_playcounts = len(playcounts_bottom_quarter)\n",
    "num_of_playcounts_rounded = num_of_playcounts - (num_of_playcounts % 500)\n",
    "num_of_plots = 4\n",
    "\n",
    "# Increase width of plots\n",
    "width = 12\n",
    "height = 6\n",
    "plt.figure(figsize=(width, height))\n",
    "\n",
    "num_of_rows = 2\n",
    "num_of_cols = 2\n",
    "\n",
    "# Successfully zoom into plot of bottom quarter of playcounts distribution\n",
    "for pos_index, xlim in enumerate(np.arange(0, num_of_playcounts_rounded, num_of_playcounts_rounded / num_of_plots)):\n",
    "    plt.subplot(num_of_rows, num_of_cols, pos_index+1)\n",
    "    num_of_values = num_of_playcounts - int(xlim)\n",
    "    plt.title('Last {} Artist Play Counts'.format(num_of_values))\n",
    "    plt.ylabel('# Of Play Counts')\n",
    "    plt.plot(playcounts_bottom_quarter.values[int(xlim):])\n",
    "plt.tight_layout()\n",
    "plt.show()"
   ]
  },
  {
   "cell_type": "code",
   "execution_count": 50,
   "metadata": {},
   "outputs": [
    {
     "data": {
      "text/plain": [
       "10855"
      ]
     },
     "execution_count": 50,
     "metadata": {},
     "output_type": "execute_result"
    }
   ],
   "source": [
    "# Only include artists with a sufficient number of play counts\n",
    "playcounts_per_artist = playcounts_per_artist[playcounts_per_artist >= bottom_quarter]\n",
    "# Check how many artists are left \n",
    "len(playcounts_per_artist)"
   ]
  },
  {
   "cell_type": "code",
   "execution_count": 51,
   "metadata": {},
   "outputs": [
    {
     "data": {
      "text/plain": [
       "10855"
      ]
     },
     "execution_count": 51,
     "metadata": {},
     "output_type": "execute_result"
    }
   ],
   "source": [
    "# Create list of artist names with playcounts above 25th percentile\n",
    "artists_with_sufficient_playcounts = list(playcounts_per_artist.index)\n",
    "# Only include those artists in our DataFrame\n",
    "playcounts_table_original = playcounts_table\n",
    "playcounts_table = playcounts_table[artists_with_sufficient_playcounts]\n",
    "# Check that the right number of artists were included\n",
    "len(playcounts_table.columns)"
   ]
  },
  {
   "cell_type": "code",
   "execution_count": 46,
   "metadata": {},
   "outputs": [
    {
     "data": {
      "image/png": "[encoded data removed]",
      "text/plain": [
       "<matplotlib.figure.Figure at 0x7f0796e1d978>"
      ]
     },
     "metadata": {},
     "output_type": "display_data"
    }
   ],
   "source": [
    "# Plot 10 highest play counts\n",
    "plt.plot(playcounts_per_artist.values[:10])\n",
    "plt.title('Top 10 Artist Play Counts')\n",
    "plt.ylabel('# Of Play Counts')\n",
    "plt.show()"
   ]
  },
  {
   "cell_type": "code",
   "execution_count": 12,
   "metadata": {},
   "outputs": [
    {
     "data": {
      "text/plain": [
       "artist\n",
       "The Cure                     846849.0\n",
       "Depeche Mode                 362668.0\n",
       "Radiohead                    307793.0\n",
       "Placebo                      296332.0\n",
       "PJ Harvey                    287979.0\n",
       "Nine Inch Nails              270393.0\n",
       "Nick Cave & The Bad Seeds    265453.0\n",
       "David Bowie                  258675.0\n",
       "The Beatles                  233696.0\n",
       "Madonna                      231469.0\n",
       "dtype: float64"
      ]
     },
     "execution_count": 12,
     "metadata": {},
     "output_type": "execute_result"
    }
   ],
   "source": [
    "# Numerically inspect 10 highest play counts\n",
    "playcounts_per_artist[:10]"
   ]
  },
  {
   "cell_type": "code",
   "execution_count": 47,
   "metadata": {},
   "outputs": [
    {
     "data": {
      "image/png": "[encoded data removed]",
      "text/plain": [
       "<matplotlib.figure.Figure at 0x7f079782b860>"
      ]
     },
     "metadata": {},
     "output_type": "display_data"
    }
   ],
   "source": [
    "# Plot 100 highest play counts, excluding the highest\n",
    "plt.plot(playcounts_per_artist.values[1:101])\n",
    "plt.title('Top 100 Artist Play Counts')\n",
    "plt.ylabel('# Of Play Counts')\n",
    "plt.show()"
   ]
  },
  {
   "cell_type": "code",
   "execution_count": 48,
   "metadata": {},
   "outputs": [
    {
     "data": {
      "image/png": "[encoded data removed]",
      "text/plain": [
       "<matplotlib.figure.Figure at 0x7f07976f1080>"
      ]
     },
     "metadata": {},
     "output_type": "display_data"
    }
   ],
   "source": [
    "# Plot 1000 highest play counts, excluding the highest\n",
    "plt.plot(playcounts_per_artist.values[1:1001])\n",
    "plt.title('Top 1000 Artist Play Counts')\n",
    "plt.ylabel('# Of Play Counts')\n",
    "plt.show()"
   ]
  },
  {
   "cell_type": "code",
   "execution_count": 49,
   "metadata": {},
   "outputs": [
    {
     "data": {
      "image/png": "[encoded data removed]",
      "text/plain": [
       "<matplotlib.figure.Figure at 0x7f0798909080>"
      ]
     },
     "metadata": {},
     "output_type": "display_data"
    }
   ],
   "source": [
    "# Also plot playcounts per user \n",
    "playcounts_per_user = playcounts_table.sum(1).sort_values(ascending=False)\n",
    "plt.plot(playcounts_per_user.values)\n",
    "plt.title('User Play Counts')\n",
    "plt.ylabel('# of Play Counts')\n",
    "plt.show()"
   ]
  },
  {
   "cell_type": "code",
   "execution_count": 17,
   "metadata": {
    "collapsed": true
   },
   "outputs": [],
   "source": [
    "scaler = preprocessing.MinMaxScaler()\n",
    "\n",
    "# Normalize across each artist (users as rows, artists as columns)\n",
    "df_to_scale = playcounts_table\n",
    "scaled_across_artists_df = pd.DataFrame(scaler.fit_transform(df_to_scale))\n",
    "# Label columns using artist names\n",
    "scaled_across_artists_df.columns = df_to_scale.columns\n",
    "# Create user column to use when melting\n",
    "scaled_across_artists_df['user'] = df_to_scale.index\n",
    "# Melt dataframe to proper format for Surprise library\n",
    "scaled_across_artists_df = pd.melt(scaled_across_artists_df, id_vars='user', var_name='artist')\n",
    "# Remove rows with values of 0\n",
    "scaled_across_artists_df = scaled_across_artists_df[scaled_across_artists_df['value'] != 0]"
   ]
  },
  {
   "cell_type": "code",
   "execution_count": 18,
   "metadata": {
    "collapsed": true
   },
   "outputs": [],
   "source": [
    "scaler = preprocessing.MinMaxScaler()\n",
    "\n",
    "# Normalize across each user (artists as rows, users as columns)\n",
    "df_to_scale = playcounts_table.transpose()\n",
    "scaled_across_users_df = pd.DataFrame(scaler.fit_transform(df_to_scale))\n",
    "# Label columns and index\n",
    "scaled_across_users_df.columns = df_to_scale.columns\n",
    "scaled_across_users_df.index = df_to_scale.index\n",
    "# Transpose dataframe\n",
    "scaled_across_users_df = scaled_across_users_df.transpose()\n",
    "\n",
    "# Create user column to use when melting\n",
    "scaled_across_users_df.reset_index(inplace=True)\n",
    "# Melt dataframe to proper format for Surprise library\n",
    "scaled_across_users_df = pd.melt(scaled_across_users_df, id_vars=['user'], var_name='artist')\n",
    "# Remove rows with values of 0\n",
    "scaled_across_users_df = scaled_across_users_df[scaled_across_users_df['value'] != 0]"
   ]
  },
  {
   "cell_type": "code",
   "execution_count": 19,
   "metadata": {
    "collapsed": true
   },
   "outputs": [],
   "source": [
    "from surprise import Reader, Dataset\n",
    "\n",
    "reader = Reader(rating_scale=(0,1))\n",
    "artist_data  = Dataset.load_from_df(scaled_across_artists_df, reader)\n",
    "user_data = Dataset.load_from_df(scaled_across_users_df, reader)"
   ]
  },
  {
   "cell_type": "code",
   "execution_count": 34,
   "metadata": {
    "collapsed": true
   },
   "outputs": [],
   "source": [
    "from surprise.model_selection import GridSearchCV\n",
    "\n",
    "# Get optimal parameters using Grid Search\n",
    "def get_best_params(algo, param_grid, datasets=[user_data, artist_data]):\n",
    "    \n",
    "    params = []\n",
    "    \n",
    "    for dataset in datasets:\n",
    "        model = GridSearchCV(algo, param_grid, cv=3)\n",
    "        model.fit(dataset)\n",
    "        # Get best parameters using rmse as evaluation metric\n",
    "        best_params = model.best_params['rmse']\n",
    "        params.append(best_params)\n",
    "    \n",
    "    return params"
   ]
  },
  {
   "cell_type": "code",
   "execution_count": 63,
   "metadata": {
    "collapsed": true
   },
   "outputs": [],
   "source": [
    "from surprise import SVD\n",
    "\n",
    "# Perform GridSearch on SVD parameters\n",
    "param_grid = {'n_factors': [1, 10, 25, 50, 100, 200], 'lr_all' : [0.005, 0.01, 0.025, 0.005]}\n",
    "svd_user_params, svd_artist_params = get_best_params(SVD, param_grid)"
   ]
  },
  {
   "cell_type": "code",
   "execution_count": 64,
   "metadata": {
    "collapsed": true
   },
   "outputs": [],
   "source": [
    "from surprise import NMF\n",
    "\n",
    "# Perform GridSearch on NMF parameters\n",
    "param_grid = {'n_factors': [5, 10, 15, 25, 50]}\n",
    "nmf_user_params, nmf_artist_params = get_best_params(NMF, param_grid)"
   ]
  },
  {
   "cell_type": "code",
   "execution_count": 30,
   "metadata": {
    "collapsed": true
   },
   "outputs": [
    {
     "name": "stdout",
     "output_type": "stream",
     "text": [
      "Computing the msd similarity matrix...\n",
      "Done computing similarity matrix.\n",
      "Computing the msd similarity matrix...\n",
      "Done computing similarity matrix.\n",
      "Computing the msd similarity matrix...\n",
      "Done computing similarity matrix.\n",
      "Computing the msd similarity matrix...\n",
      "Done computing similarity matrix.\n",
      "Computing the msd similarity matrix...\n",
      "Done computing similarity matrix.\n",
      "Computing the msd similarity matrix...\n",
      "Done computing similarity matrix.\n",
      "Computing the msd similarity matrix...\n",
      "Done computing similarity matrix.\n",
      "Computing the msd similarity matrix...\n",
      "Done computing similarity matrix.\n",
      "Computing the msd similarity matrix...\n",
      "Done computing similarity matrix.\n",
      "Computing the msd similarity matrix...\n",
      "Done computing similarity matrix.\n",
      "Computing the msd similarity matrix...\n",
      "Done computing similarity matrix.\n",
      "Computing the msd similarity matrix...\n",
      "Done computing similarity matrix.\n",
      "Computing the msd similarity matrix...\n",
      "Done computing similarity matrix.\n",
      "Computing the msd similarity matrix...\n",
      "Done computing similarity matrix.\n",
      "Computing the msd similarity matrix...\n",
      "Done computing similarity matrix.\n",
      "Computing the msd similarity matrix...\n",
      "Done computing similarity matrix.\n",
      "Computing the msd similarity matrix...\n",
      "Done computing similarity matrix.\n",
      "Computing the msd similarity matrix...\n",
      "Done computing similarity matrix.\n",
      "Computing the msd similarity matrix...\n",
      "Done computing similarity matrix.\n",
      "Computing the msd similarity matrix...\n",
      "Done computing similarity matrix.\n",
      "Computing the msd similarity matrix...\n",
      "Done computing similarity matrix.\n",
      "Computing the msd similarity matrix...\n",
      "Done computing similarity matrix.\n",
      "Computing the msd similarity matrix...\n",
      "Done computing similarity matrix.\n",
      "Computing the msd similarity matrix...\n",
      "Done computing similarity matrix.\n",
      "Computing the msd similarity matrix...\n",
      "Done computing similarity matrix.\n",
      "Computing the msd similarity matrix...\n",
      "Done computing similarity matrix.\n",
      "Computing the msd similarity matrix...\n",
      "Done computing similarity matrix.\n",
      "Computing the msd similarity matrix...\n",
      "Done computing similarity matrix.\n",
      "Computing the msd similarity matrix...\n",
      "Done computing similarity matrix.\n",
      "Computing the msd similarity matrix...\n",
      "Done computing similarity matrix.\n"
     ]
    }
   ],
   "source": [
    "from surprise import KNNBasic\n",
    "\n",
    "# Perform GridSearch on KNN parameters\n",
    "param_grid = {'k': np.arange(10,51,10)}\n",
    "knn_user_params, knn_artist_params = get_best_params(KNNBasic, param_grid)"
   ]
  },
  {
   "cell_type": "code",
   "execution_count": 22,
   "metadata": {
    "collapsed": true
   },
   "outputs": [],
   "source": [
    "from surprise import accuracy\n",
    "from surprise.model_selection import KFold\n",
    "\n",
    "def get_rmse_scores(algo, datasets=[user_data, artist_data]):\n",
    "    \n",
    "    scores = []\n",
    "    mean_errors = []\n",
    "\n",
    "    # Define a cross-validation iterator\n",
    "    kf = KFold(n_splits=5)\n",
    "    \n",
    "    # Select which algorithm to use\n",
    "    algo = algo\n",
    "\n",
    "    # Get scores for different datasets\n",
    "    for dataset in datasets:\n",
    "        \n",
    "        # Calculate scores for each split\n",
    "        for trainset, testset in kf.split(dataset):\n",
    "\n",
    "            # Train and test algorithm\n",
    "            algo.fit(trainset)\n",
    "            predictions = algo.test(testset)\n",
    "\n",
    "            # Store RMSE scores in the 'scores' list\n",
    "            rmse_score = accuracy.rmse(predictions, verbose=False)\n",
    "            scores.append(rmse_score)\n",
    "        \n",
    "        # Calculate the mean of the scores and store in 'mean_errors' list\n",
    "        mean_errors.append(np.mean(scores))\n",
    "            \n",
    "    return mean_errors"
   ]
  },
  {
   "cell_type": "code",
   "execution_count": 67,
   "metadata": {},
   "outputs": [
    {
     "name": "stderr",
     "output_type": "stream",
     "text": [
      "/home/hussain/anaconda3/lib/python3.6/site-packages/surprise/prediction_algorithms/algo_base.py:293: RuntimeWarning: invalid value encountered in sqrt\n",
      "  sim = construction_func[name](*args)\n"
     ]
    }
   ],
   "source": [
    "from surprise import NormalPredictor, BaselineOnly\n",
    "from surprise import SlopeOne\n",
    "\n",
    "# Collect RMSE scores for different models\n",
    "rmse_data = []\n",
    "\n",
    "normal_scores = get_rmse_scores(NormalPredictor())\n",
    "rmse_data.append(normal_scores)\n",
    "\n",
    "baseline_scores = get_rmse_scores(BaselineOnly(verbose=False))\n",
    "rmse_data.append(baseline_scores)\n",
    "\n",
    "# Use parameters selected by GridSearch for both user-scaled and artist-scaled data\n",
    "svd_user_score = get_rmse_scores(SVD(**svd_user_params), [user_data])\n",
    "svd_artist_score = get_rmse_scores(SVD(**svd_artist_params), [artist_data])\n",
    "rmse_data.append([svd_user_score[0], svd_artist_score[0]])\n",
    "\n",
    "nmf_user_score = get_rmse_scores(NMF(**nmf_user_params), [user_data])\n",
    "nmf_artist_score = get_rmse_scores(NMF(**nmf_artist_params), [artist_data])\n",
    "rmse_data.append([nmf_user_score[0], nmf_artist_score[0]])\n",
    "\n",
    "sim_options = {'name': 'cosine', 'user_based': True}\n",
    "knn_user_cosine_scores = get_rmse_scores(KNNBasic(**knn_user_params, sim_options=sim_options, verbose=False))\n",
    "knn_artist_cosine_scores = get_rmse_scores(KNNBasic(**knn_artist_params, sim_options=sim_options, verbose=False))\n",
    "rmse_data.append([knn_user_cosine_scores[0], knn_artist_cosine_scores[0]])\n",
    "\n",
    "sim_options = {'name': 'pearson', 'user_based': True}\n",
    "knn_user_pearson_scores = get_rmse_scores(KNNBasic(**knn_user_params, sim_options=sim_options, verbose=False))\n",
    "knn_artist_pearson_scores = get_rmse_scores(KNNBasic(**knn_artist_params, sim_options=sim_options, verbose=False))\n",
    "rmse_data.append([knn_user_pearson_scores[0], knn_artist_pearson_scores[0]])"
   ]
  },
  {
   "cell_type": "code",
   "execution_count": 24,
   "metadata": {
    "collapsed": true
   },
   "outputs": [],
   "source": [
    "# Create table of RMSCE scores\n",
    "rmse_table = pd.DataFrame(rmse_data)\n",
    "index_names = ['NormalPredictor', 'Baseline', 'SVD', 'NMF', 'User-based cosine-KNN', 'User-based Pearson-KNN']\n",
    "col_names = ['User scaled', 'Artist scaled']\n",
    "rmse_table.index = index_names\n",
    "rmse_table.columns = col_names"
   ]
  },
  {
   "cell_type": "code",
   "execution_count": 25,
   "metadata": {},
   "outputs": [
    {
     "data": {
      "text/html": [
       "<div>\n",
       "<style>\n",
       "    .dataframe thead tr:only-child th {\n",
       "        text-align: right;\n",
       "    }\n",
       "\n",
       "    .dataframe thead th {\n",
       "        text-align: left;\n",
       "    }\n",
       "\n",
       "    .dataframe tbody tr th {\n",
       "        vertical-align: top;\n",
       "    }\n",
       "</style>\n",
       "<table border=\"1\" class=\"dataframe\">\n",
       "  <thead>\n",
       "    <tr style=\"text-align: right;\">\n",
       "      <th></th>\n",
       "      <th>User scaled</th>\n",
       "      <th>Artist scaled</th>\n",
       "    </tr>\n",
       "  </thead>\n",
       "  <tbody>\n",
       "    <tr>\n",
       "      <th>NormalPredictor</th>\n",
       "      <td>0.291925</td>\n",
       "      <td>0.396527</td>\n",
       "    </tr>\n",
       "    <tr>\n",
       "      <th>Baseline</th>\n",
       "      <td>0.186361</td>\n",
       "      <td>0.231003</td>\n",
       "    </tr>\n",
       "    <tr>\n",
       "      <th>SVD</th>\n",
       "      <td>0.184444</td>\n",
       "      <td>0.245794</td>\n",
       "    </tr>\n",
       "    <tr>\n",
       "      <th>NMF</th>\n",
       "      <td>0.207086</td>\n",
       "      <td>0.324503</td>\n",
       "    </tr>\n",
       "    <tr>\n",
       "      <th>User-based cosine-KNN</th>\n",
       "      <td>0.228834</td>\n",
       "      <td>0.231486</td>\n",
       "    </tr>\n",
       "    <tr>\n",
       "      <th>User-based Pearson-KNN</th>\n",
       "      <td>0.234469</td>\n",
       "      <td>0.235909</td>\n",
       "    </tr>\n",
       "  </tbody>\n",
       "</table>\n",
       "</div>"
      ],
      "text/plain": [
       "                        User scaled  Artist scaled\n",
       "NormalPredictor            0.291925       0.396527\n",
       "Baseline                   0.186361       0.231003\n",
       "SVD                        0.184444       0.245794\n",
       "NMF                        0.207086       0.324503\n",
       "User-based cosine-KNN      0.228834       0.231486\n",
       "User-based Pearson-KNN     0.234469       0.235909"
      ]
     },
     "execution_count": 25,
     "metadata": {},
     "output_type": "execute_result"
    }
   ],
   "source": [
    "rmse_table"
   ]
  },
  {
   "cell_type": "code",
   "execution_count": 26,
   "metadata": {
    "collapsed": true
   },
   "outputs": [],
   "source": [
    "# Create table of predicted recommendation scores for users and artists\n",
    "def get_recs_table(dataset, algo):\n",
    "\n",
    "    trainset = dataset.build_full_trainset()\n",
    "\n",
    "    algo = algo\n",
    "    algo.fit(trainset)\n",
    "\n",
    "    predictions = {}\n",
    "    \n",
    "    # Look at every artist\n",
    "    for artist in playcounts_table.columns:\n",
    "    \n",
    "        predictions_for_user = []\n",
    "    \n",
    "        # Only look at every other user for the sake of runtime\n",
    "        for user in playcounts_table.index[::2]:\n",
    "            predicted_rec_score = algo.predict(user, artist)[3]\n",
    "            predictions_for_user.append(predicted_rec_score)\n",
    "            predictions[artist] = predictions_for_user\n",
    "            \n",
    "    recs_table = pd.DataFrame(predictions)\n",
    "    recs_table.index= playcounts_table.index[::2]\n",
    "    \n",
    "    return recs_table"
   ]
  },
  {
   "cell_type": "code",
   "execution_count": 27,
   "metadata": {},
   "outputs": [
    {
     "data": {
      "text/html": [
       "<div>\n",
       "<style>\n",
       "    .dataframe thead tr:only-child th {\n",
       "        text-align: right;\n",
       "    }\n",
       "\n",
       "    .dataframe thead th {\n",
       "        text-align: left;\n",
       "    }\n",
       "\n",
       "    .dataframe tbody tr th {\n",
       "        vertical-align: top;\n",
       "    }\n",
       "</style>\n",
       "<table border=\"1\" class=\"dataframe\">\n",
       "  <thead>\n",
       "    <tr style=\"text-align: right;\">\n",
       "      <th></th>\n",
       "      <th>!!!</th>\n",
       "      <th>!Action Pact!</th>\n",
       "      <th>!distain</th>\n",
       "      <th>\"Weird Al\" Yankovic</th>\n",
       "      <th>$LUDGEHAMMER</th>\n",
       "      <th>$OUDIERE</th>\n",
       "      <th>$UICIDEBOY$ x RVMIRXZ</th>\n",
       "      <th>$uicideboy$</th>\n",
       "      <th>$uicideboy$ x Germ</th>\n",
       "      <th>'Til Tuesday</th>\n",
       "      <th>...</th>\n",
       "      <th>손담비</th>\n",
       "      <th>시와무지개</th>\n",
       "      <th>에이오에이</th>\n",
       "      <th>원더걸스 (Wonder Girls)</th>\n",
       "      <th>잠비나이</th>\n",
       "      <th>티아라</th>\n",
       "      <th>폐허</th>\n",
       "      <th>푸른새벽</th>\n",
       "      <th>회사AUTO</th>\n",
       "      <th>２８１４</th>\n",
       "    </tr>\n",
       "    <tr>\n",
       "      <th>user</th>\n",
       "      <th></th>\n",
       "      <th></th>\n",
       "      <th></th>\n",
       "      <th></th>\n",
       "      <th></th>\n",
       "      <th></th>\n",
       "      <th></th>\n",
       "      <th></th>\n",
       "      <th></th>\n",
       "      <th></th>\n",
       "      <th></th>\n",
       "      <th></th>\n",
       "      <th></th>\n",
       "      <th></th>\n",
       "      <th></th>\n",
       "      <th></th>\n",
       "      <th></th>\n",
       "      <th></th>\n",
       "      <th></th>\n",
       "      <th></th>\n",
       "      <th></th>\n",
       "    </tr>\n",
       "  </thead>\n",
       "  <tbody>\n",
       "    <tr>\n",
       "      <th>-Miles-</th>\n",
       "      <td>0.067090</td>\n",
       "      <td>0.085594</td>\n",
       "      <td>0.100489</td>\n",
       "      <td>0.064859</td>\n",
       "      <td>0.088439</td>\n",
       "      <td>0.073703</td>\n",
       "      <td>0.084294</td>\n",
       "      <td>0.176710</td>\n",
       "      <td>0.076497</td>\n",
       "      <td>0.079984</td>\n",
       "      <td>...</td>\n",
       "      <td>0.076625</td>\n",
       "      <td>0.074114</td>\n",
       "      <td>0.096472</td>\n",
       "      <td>0.067649</td>\n",
       "      <td>0.081386</td>\n",
       "      <td>0.083866</td>\n",
       "      <td>0.073154</td>\n",
       "      <td>0.071840</td>\n",
       "      <td>0.080434</td>\n",
       "      <td>0.079712</td>\n",
       "    </tr>\n",
       "    <tr>\n",
       "      <th>ACEpapella</th>\n",
       "      <td>0.194037</td>\n",
       "      <td>0.205205</td>\n",
       "      <td>0.226973</td>\n",
       "      <td>0.186924</td>\n",
       "      <td>0.209117</td>\n",
       "      <td>0.191780</td>\n",
       "      <td>0.198822</td>\n",
       "      <td>0.299172</td>\n",
       "      <td>0.200231</td>\n",
       "      <td>0.204399</td>\n",
       "      <td>...</td>\n",
       "      <td>0.202802</td>\n",
       "      <td>0.199644</td>\n",
       "      <td>0.214408</td>\n",
       "      <td>0.205153</td>\n",
       "      <td>0.194328</td>\n",
       "      <td>0.208674</td>\n",
       "      <td>0.197755</td>\n",
       "      <td>0.200274</td>\n",
       "      <td>0.197509</td>\n",
       "      <td>0.195718</td>\n",
       "    </tr>\n",
       "    <tr>\n",
       "      <th>ALF_Fighter</th>\n",
       "      <td>0.155648</td>\n",
       "      <td>0.162412</td>\n",
       "      <td>0.188305</td>\n",
       "      <td>0.145605</td>\n",
       "      <td>0.166966</td>\n",
       "      <td>0.148067</td>\n",
       "      <td>0.152978</td>\n",
       "      <td>0.258091</td>\n",
       "      <td>0.159914</td>\n",
       "      <td>0.164491</td>\n",
       "      <td>...</td>\n",
       "      <td>0.163950</td>\n",
       "      <td>0.160404</td>\n",
       "      <td>0.170610</td>\n",
       "      <td>0.173101</td>\n",
       "      <td>0.147533</td>\n",
       "      <td>0.169000</td>\n",
       "      <td>0.157957</td>\n",
       "      <td>0.162778</td>\n",
       "      <td>0.153195</td>\n",
       "      <td>0.150762</td>\n",
       "    </tr>\n",
       "    <tr>\n",
       "      <th>AdreenaLiNa</th>\n",
       "      <td>0.279823</td>\n",
       "      <td>0.293022</td>\n",
       "      <td>0.312886</td>\n",
       "      <td>0.274062</td>\n",
       "      <td>0.296639</td>\n",
       "      <td>0.280022</td>\n",
       "      <td>0.288046</td>\n",
       "      <td>0.386200</td>\n",
       "      <td>0.286907</td>\n",
       "      <td>0.290886</td>\n",
       "      <td>...</td>\n",
       "      <td>0.288801</td>\n",
       "      <td>0.285822</td>\n",
       "      <td>0.302689</td>\n",
       "      <td>0.288015</td>\n",
       "      <td>0.283992</td>\n",
       "      <td>0.295052</td>\n",
       "      <td>0.284190</td>\n",
       "      <td>0.285648</td>\n",
       "      <td>0.286029</td>\n",
       "      <td>0.284533</td>\n",
       "    </tr>\n",
       "    <tr>\n",
       "      <th>Agnetha1950</th>\n",
       "      <td>0.100397</td>\n",
       "      <td>0.113782</td>\n",
       "      <td>0.133473</td>\n",
       "      <td>0.094760</td>\n",
       "      <td>0.117372</td>\n",
       "      <td>0.100821</td>\n",
       "      <td>0.108936</td>\n",
       "      <td>0.206888</td>\n",
       "      <td>0.107562</td>\n",
       "      <td>0.111525</td>\n",
       "      <td>...</td>\n",
       "      <td>0.109394</td>\n",
       "      <td>0.106432</td>\n",
       "      <td>0.123492</td>\n",
       "      <td>0.108321</td>\n",
       "      <td>0.104922</td>\n",
       "      <td>0.115680</td>\n",
       "      <td>0.104824</td>\n",
       "      <td>0.106185</td>\n",
       "      <td>0.106854</td>\n",
       "      <td>0.105385</td>\n",
       "    </tr>\n",
       "  </tbody>\n",
       "</table>\n",
       "<p>5 rows × 10855 columns</p>\n",
       "</div>"
      ],
      "text/plain": [
       "                  !!!  !Action Pact!  !distain  \"Weird Al\" Yankovic  \\\n",
       "user                                                                  \n",
       "-Miles-      0.067090       0.085594  0.100489             0.064859   \n",
       "ACEpapella   0.194037       0.205205  0.226973             0.186924   \n",
       "ALF_Fighter  0.155648       0.162412  0.188305             0.145605   \n",
       "AdreenaLiNa  0.279823       0.293022  0.312886             0.274062   \n",
       "Agnetha1950  0.100397       0.113782  0.133473             0.094760   \n",
       "\n",
       "             $LUDGEHAMMER  $OUDIERE  $UICIDEBOY$ x RVMIRXZ  $uicideboy$  \\\n",
       "user                                                                      \n",
       "-Miles-          0.088439  0.073703               0.084294     0.176710   \n",
       "ACEpapella       0.209117  0.191780               0.198822     0.299172   \n",
       "ALF_Fighter      0.166966  0.148067               0.152978     0.258091   \n",
       "AdreenaLiNa      0.296639  0.280022               0.288046     0.386200   \n",
       "Agnetha1950      0.117372  0.100821               0.108936     0.206888   \n",
       "\n",
       "             $uicideboy$ x Germ  'Til Tuesday    ...          손담비     시와무지개  \\\n",
       "user                                             ...                          \n",
       "-Miles-                0.076497      0.079984    ...     0.076625  0.074114   \n",
       "ACEpapella             0.200231      0.204399    ...     0.202802  0.199644   \n",
       "ALF_Fighter            0.159914      0.164491    ...     0.163950  0.160404   \n",
       "AdreenaLiNa            0.286907      0.290886    ...     0.288801  0.285822   \n",
       "Agnetha1950            0.107562      0.111525    ...     0.109394  0.106432   \n",
       "\n",
       "                에이오에이  원더걸스 (Wonder Girls)      잠비나이       티아라        폐허  \\\n",
       "user                                                                       \n",
       "-Miles-      0.096472             0.067649  0.081386  0.083866  0.073154   \n",
       "ACEpapella   0.214408             0.205153  0.194328  0.208674  0.197755   \n",
       "ALF_Fighter  0.170610             0.173101  0.147533  0.169000  0.157957   \n",
       "AdreenaLiNa  0.302689             0.288015  0.283992  0.295052  0.284190   \n",
       "Agnetha1950  0.123492             0.108321  0.104922  0.115680  0.104824   \n",
       "\n",
       "                 푸른새벽    회사AUTO      ２８１４  \n",
       "user                                       \n",
       "-Miles-      0.071840  0.080434  0.079712  \n",
       "ACEpapella   0.200274  0.197509  0.195718  \n",
       "ALF_Fighter  0.162778  0.153195  0.150762  \n",
       "AdreenaLiNa  0.285648  0.286029  0.284533  \n",
       "Agnetha1950  0.106185  0.106854  0.105385  \n",
       "\n",
       "[5 rows x 10855 columns]"
      ]
     },
     "execution_count": 27,
     "metadata": {},
     "output_type": "execute_result"
    }
   ],
   "source": [
    "# Get predicted recommendation scores for SVD model on user-scaled data\n",
    "predicted_scores = get_recs_table(user_data, SVD(**svd_user_params, verbose=False))\n",
    "predicted_scores.head()"
   ]
  },
  {
   "cell_type": "code",
   "execution_count": 28,
   "metadata": {},
   "outputs": [
    {
     "data": {
      "image/png": "[encoded data removed]",
      "text/plain": [
       "<matplotlib.figure.Figure at 0x7f07918f4a90>"
      ]
     },
     "metadata": {},
     "output_type": "display_data"
    }
   ],
   "source": [
    "# Inspect curve of artist recommendation scores\n",
    "\n",
    "# Get a score summed across users for each artist\n",
    "predicted_scores_per_artist = predicted_scores.sum()\n",
    "# Sort scores\n",
    "predicted_scores_per_artist = predicted_scores_per_artist.sort_values(ascending=False)\n",
    "\n",
    "plt.plot(predicted_scores_per_artist.values)\n",
    "plt.title('User-scaled SVD output curve')\n",
    "plt.show()"
   ]
  },
  {
   "cell_type": "code",
   "execution_count": 63,
   "metadata": {},
   "outputs": [
    {
     "data": {
      "image/png": "[encoded data removed]",
      "text/plain": [
       "<matplotlib.figure.Figure at 0x7f0798534780>"
      ]
     },
     "metadata": {},
     "output_type": "display_data"
    }
   ],
   "source": [
    "# Zoom into user-scaled SVD output curve\n",
    "one_percent = int(len(predicted_scores_per_artist) * .001)\n",
    "five_percent = int(len(predicted_scores_per_artist) * .05)\n",
    "ten_percent = int(len(predicted_scores_per_artist) * .1)\n",
    "\n",
    "width = 20\n",
    "height = 4\n",
    "\n",
    "plt.figure(figsize=(width, height))\n",
    "\n",
    "plt.subplot(1, 3, 1)\n",
    "plt.title('Last 99% of Values')\n",
    "plt.plot(predicted_scores_per_artist.values[one_percent:])\n",
    "plt.subplot(1, 3, 2)\n",
    "plt.title('Last 95% of Values')\n",
    "plt.plot(predicted_scores_per_artist.values[five_percent:])\n",
    "plt.subplot(1, 3, 3)\n",
    "plt.title('Last 90% of Values')\n",
    "plt.plot(predicted_scores_per_artist.values[ten_percent:])\n",
    "plt.show()"
   ]
  },
  {
   "cell_type": "code",
   "execution_count": 30,
   "metadata": {
    "collapsed": true
   },
   "outputs": [],
   "source": [
    "def get_output_curve(data, algo):\n",
    "    \n",
    "    predicted_scores = get_recs_table(data, algo)\n",
    "    predicted_scores_per_artist = predicted_scores.sum()\n",
    "    predicted_scores_per_artist = predicted_scores_per_artist.sort_values(ascending=False)\n",
    "    \n",
    "    return predicted_scores_per_artist.values"
   ]
  },
  {
   "cell_type": "code",
   "execution_count": 52,
   "metadata": {},
   "outputs": [
    {
     "data": {
      "image/png": "[encoded data removed]",
      "text/plain": [
       "<matplotlib.figure.Figure at 0x7f07d81d7e48>"
      ]
     },
     "metadata": {},
     "output_type": "display_data"
    }
   ],
   "source": [
    "# Inspect curve of artist recommendation scores for artist-scaled data\n",
    "sim_options = {'name': 'cosine', 'user_based': True}\n",
    "knn_artist_algo = KNNBasic(**knn_artist_params, sim_options=sim_options, verbose=False)\n",
    "artist_scaled_scores = get_output_curve(artist_data, knn_artist_algo)\n",
    "plt.plot(artist_scaled_scores)\n",
    "plt.title('Artist-scaled cosine-KNN output curve')\n",
    "plt.show()"
   ]
  },
  {
   "cell_type": "code",
   "execution_count": 72,
   "metadata": {},
   "outputs": [
    {
     "data": {
      "image/png": "[encoded data removed]",
      "text/plain": [
       "<matplotlib.figure.Figure at 0x7f079137a7f0>"
      ]
     },
     "metadata": {},
     "output_type": "display_data"
    }
   ],
   "source": [
    "# Look at distribution of non-normalized data (play counts)\n",
    "plt.hist(non_normalized_df['value'])\n",
    "plt.title('Histogram of Play Counts')\n",
    "plt.xlabel('Play Count')\n",
    "plt.ylabel('Frequency of Play Count')\n",
    "plt.show()"
   ]
  },
  {
   "cell_type": "code",
   "execution_count": 74,
   "metadata": {},
   "outputs": [
    {
     "data": {
      "image/png": "[encoded data removed]",
      "text/plain": [
       "<matplotlib.figure.Figure at 0x7f07a037de10>"
      ]
     },
     "metadata": {},
     "output_type": "display_data"
    }
   ],
   "source": [
    "# Check for outliers \n",
    "plt.plot(non_normalized_df['value'].sort_values(ascending=False).values[:15])\n",
    "plt.title('15 Highest Play Counts')\n",
    "plt.show()"
   ]
  },
  {
   "cell_type": "code",
   "execution_count": 85,
   "metadata": {
    "collapsed": true
   },
   "outputs": [],
   "source": [
    "# Store outlier values\n",
    "first_outlier, second_outlier = non_normalized_df['value'].sort_values(ascending=False).values[:2]"
   ]
  },
  {
   "cell_type": "code",
   "execution_count": 87,
   "metadata": {
    "collapsed": true
   },
   "outputs": [],
   "source": [
    "# Transform non-normalized data for Surprise to use\n",
    "non_normalized_df = pd.DataFrame(playcounts_table)\n",
    "non_normalized_df['user'] = non_normalized_df.index\n",
    "non_normalized_df = pd.melt(non_normalized_df, id_vars=['user'], var_name='artist')\n",
    "non_normalized_df = non_normalized_df[non_normalized_df['value'] != 0]\n",
    "# Remove outliers\n",
    "non_normalized_df = non_normalized_df[non_normalized_df['value'] != first_outlier]\n",
    "non_normalized_df = non_normalized_df[non_normalized_df['value'] != second_outlier]\n",
    "\n",
    "reader = Reader(rating_scale=(0, max(non_normalized_df['value'].values)))\n",
    "non_normalized_data  = Dataset.load_from_df(non_normalized_df, reader)"
   ]
  },
  {
   "cell_type": "code",
   "execution_count": 91,
   "metadata": {
    "collapsed": true
   },
   "outputs": [],
   "source": [
    "# Perform GridSearch on SVD parameters\n",
    "param_grid = {'n_factors': [1, 10, 25, 50, 100, 200], 'lr_all' : [0.005, 0.01, 0.025, 0.005]}\n",
    "svd_params = get_best_params(SVD, param_grid, [non_normalized_data])"
   ]
  },
  {
   "cell_type": "code",
   "execution_count": 92,
   "metadata": {},
   "outputs": [
    {
     "data": {
      "image/png": "[encoded data removed]",
      "text/plain": [
       "<matplotlib.figure.Figure at 0x7f079138afd0>"
      ]
     },
     "metadata": {},
     "output_type": "display_data"
    }
   ],
   "source": [
    "# Get output curve for SVD model on non-normalized data (play counts) \n",
    "output_scores = get_output_curve(non_normalized_data, SVD(**svd_params[0], verbose=False))\n",
    "plt.plot(output_scores)\n",
    "plt.title('Artist-scaled non-normalized SVD output curve')\n",
    "plt.show()"
   ]
  },
  {
   "cell_type": "code",
   "execution_count": 94,
   "metadata": {},
   "outputs": [
    {
     "data": {
      "text/plain": [
       "2"
      ]
     },
     "execution_count": 94,
     "metadata": {},
     "output_type": "execute_result"
    }
   ],
   "source": [
    "# Check how many unique scores we have\n",
    "len(np.unique(output_scores))"
   ]
  },
  {
   "cell_type": "code",
   "execution_count": 168,
   "metadata": {
    "collapsed": true
   },
   "outputs": [],
   "source": [
    "def get_top_recommendations(user, n=10, data=artist_data, algo=KNNBasic(**knn_artist_params,\n",
    "                                                                        sim_options=sim_options,\n",
    "                                                                        verbose=False)):\n",
    "    \n",
    "    # Create training set on full dataset\n",
    "    trainset = data.build_full_trainset()\n",
    "\n",
    "    predicted_scores = {}\n",
    "    artists = []\n",
    "\n",
    "    # Fit model\n",
    "    algo.fit(trainset)\n",
    "    # Get predicted scores for each artist\n",
    "    for artist in playcounts_table.columns:\n",
    "        predicted_scores[artist] = algo.predict(user, artist)[3]\n",
    "    \n",
    "    # Only include artists with scores less than 1\n",
    "    updated_scores = {artist: score for artist, score in predicted_scores.items() if score < 1}\n",
    "    # Sort scores from highest to lowest\n",
    "    sorted_scores = sorted(updated_scores.items(), key=lambda kv: kv[1], reverse=True)\n",
    "    \n",
    "    # Get top n artists \n",
    "    for i in np.arange(n):\n",
    "        artists.append(sorted_scores[i][0])\n",
    "    \n",
    "    return artists"
   ]
  },
  {
   "cell_type": "code",
   "execution_count": 169,
   "metadata": {},
   "outputs": [
    {
     "data": {
      "text/plain": [
       "['I LIKE TRAINS',\n",
       " 'Root',\n",
       " 'Elektryczne Gitary',\n",
       " 'Them Crooked Vultures',\n",
       " 'Strachy Na Lachy',\n",
       " 'The Easybeats',\n",
       " 'Patsy Cline',\n",
       " 'Metallic Falcons',\n",
       " 'Alex Winston',\n",
       " 'Facção Central']"
      ]
     },
     "execution_count": 169,
     "metadata": {},
     "output_type": "execute_result"
    }
   ],
   "source": [
    "get_top_recommendations('-Miles-')"
   ]
  },
  {
   "cell_type": "code",
   "execution_count": 174,
   "metadata": {},
   "outputs": [
    {
     "data": {
      "text/plain": [
       "['Blind Willie McTell',\n",
       " 'Human Tetris',\n",
       " 'Rocky Votolato',\n",
       " 'Strachy Na Lachy',\n",
       " 'Nicola Conte',\n",
       " 'The Easybeats',\n",
       " 'The Associates',\n",
       " 'Patsy Cline',\n",
       " 'Portion Control',\n",
       " 'Facção Central']"
      ]
     },
     "execution_count": 174,
     "metadata": {},
     "output_type": "execute_result"
    }
   ],
   "source": [
    "get_top_recommendations('A6_666')"
   ]
  },
  {
   "cell_type": "code",
   "execution_count": 175,
   "metadata": {},
   "outputs": [
    {
     "data": {
      "text/plain": [
       "['Antitainment',\n",
       " 'I LIKE TRAINS',\n",
       " 'Blood Axis & Les Joyaux de la Princesse',\n",
       " 'X-Fusion',\n",
       " 'Human Tetris',\n",
       " 'Alex Winston',\n",
       " 'Facção Central',\n",
       " 'Herbert',\n",
       " 'Bomba Estéreo',\n",
       " 'Strachy Na Lachy']"
      ]
     },
     "execution_count": 175,
     "metadata": {},
     "output_type": "execute_result"
    }
   ],
   "source": [
    "get_top_recommendations('ACEpapella')"
   ]
  },
  {
   "cell_type": "code",
   "execution_count": null,
   "metadata": {
    "collapsed": true
   },
   "outputs": [],
   "source": []
  }
 ],
 "metadata": {
  "kernelspec": {
   "display_name": "Python 3",
   "language": "python",
   "name": "python3"
  },
  "language_info": {
   "codemirror_mode": {
    "name": "ipython",
    "version": 3
   },
   "file_extension": ".py",
   "mimetype": "text/x-python",
   "name": "python",
   "nbconvert_exporter": "python",
   "pygments_lexer": "ipython3",
   "version": "3.6.3"
  }
 },
 "nbformat": 4,
 "nbformat_minor": 2
}
